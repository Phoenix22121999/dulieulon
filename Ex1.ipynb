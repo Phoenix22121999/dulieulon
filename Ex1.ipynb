{
  "nbformat": 4,
  "nbformat_minor": 0,
  "metadata": {
    "colab": {
      "name": "Ex1.ipynb",
      "provenance": [],
      "collapsed_sections": []
    },
    "kernelspec": {
      "name": "python3",
      "display_name": "Python 3"
    }
  },
  "cells": [
    {
      "cell_type": "code",
      "metadata": {
        "colab": {
          "base_uri": "https://localhost:8080/"
        },
        "id": "XnNXaa_YR5g2",
        "outputId": "db1b7854-3464-4630-9b76-6fa28a7b9f9e"
      },
      "source": [
        "pip install pyspark"
      ],
      "execution_count": 1,
      "outputs": [
        {
          "output_type": "stream",
          "text": [
            "Collecting pyspark\n",
            "\u001b[?25l  Downloading https://files.pythonhosted.org/packages/f0/26/198fc8c0b98580f617cb03cb298c6056587b8f0447e20fa40c5b634ced77/pyspark-3.0.1.tar.gz (204.2MB)\n",
            "\u001b[K     |████████████████████████████████| 204.2MB 69kB/s \n",
            "\u001b[?25hCollecting py4j==0.10.9\n",
            "\u001b[?25l  Downloading https://files.pythonhosted.org/packages/9e/b6/6a4fb90cd235dc8e265a6a2067f2a2c99f0d91787f06aca4bcf7c23f3f80/py4j-0.10.9-py2.py3-none-any.whl (198kB)\n",
            "\u001b[K     |████████████████████████████████| 204kB 47.2MB/s \n",
            "\u001b[?25hBuilding wheels for collected packages: pyspark\n",
            "  Building wheel for pyspark (setup.py) ... \u001b[?25l\u001b[?25hdone\n",
            "  Created wheel for pyspark: filename=pyspark-3.0.1-py2.py3-none-any.whl size=204612242 sha256=6875a5716bd326242cfeb300f17146928a09d1a063927202ef619ba4f10b11ab\n",
            "  Stored in directory: /root/.cache/pip/wheels/5e/bd/07/031766ca628adec8435bb40f0bd83bb676ce65ff4007f8e73f\n",
            "Successfully built pyspark\n",
            "Installing collected packages: py4j, pyspark\n",
            "Successfully installed py4j-0.10.9 pyspark-3.0.1\n"
          ],
          "name": "stdout"
        }
      ]
    },
    {
      "cell_type": "code",
      "metadata": {
        "id": "S0YZMkj9TLB0"
      },
      "source": [
        "from pyspark import SparkContext,SparkConf\r\n",
        "import collections\r\n",
        "import re\r\n",
        "from operator import add\r\n",
        "conf = SparkConf().setMaster(\"local\").setAppName(\"words\")\r\n",
        "sc =SparkContext.getOrCreate(conf=conf)"
      ],
      "execution_count": 58,
      "outputs": []
    },
    {
      "cell_type": "code",
      "metadata": {
        "colab": {
          "base_uri": "https://localhost:8080/"
        },
        "id": "0vz2sKMXUyIX",
        "outputId": "6c72be39-92cf-4b4e-f1ec-be5b06d3d71c"
      },
      "source": [
        "print('File Path:')\r\n",
        "filepath = input()\r\n",
        "content = sc.textFile(filepath)"
      ],
      "execution_count": 59,
      "outputs": [
        {
          "output_type": "stream",
          "text": [
            "File Path:\n",
            "/content/drive/MyDrive/Colab Notebooks/input.txt\n"
          ],
          "name": "stdout"
        }
      ]
    },
    {
      "cell_type": "code",
      "metadata": {
        "id": "-6nUEAUOU3GL"
      },
      "source": [
        "words = content.flatMap(lambda line: line.split(\" \"))\r\n",
        "# print(words.collect())\r\n",
        "# rdd = sc.parallelize(words.collect())\r\n",
        "counts = words.map(lambda word : (word,1))"
      ],
      "execution_count": 60,
      "outputs": []
    },
    {
      "cell_type": "code",
      "metadata": {
        "id": "6vCVu5QKcL1X"
      },
      "source": [
        "def map_phase(x):\r\n",
        "    x = re.sub('--', ' ', x)\r\n",
        "    x = re.sub(\"'\", '', x)\r\n",
        "    return re.sub('[?!@#$\\'\",.;:()]', '', x).lower().split(' ')"
      ],
      "execution_count": 61,
      "outputs": []
    },
    {
      "cell_type": "code",
      "metadata": {
        "id": "RYz9V8qncOxq"
      },
      "source": [
        "def pass_filter(x):\r\n",
        "    return (len(x) > 0 or x != \" \" or x != None)"
      ],
      "execution_count": 62,
      "outputs": []
    },
    {
      "cell_type": "code",
      "metadata": {
        "id": "wljme2KxcUgy"
      },
      "source": [
        " counts = content.flatMap(map_phase) \\\r\n",
        "                  .map(lambda x: (x, 1)) \\\r\n",
        "                  .reduceByKey(add) \\\r\n",
        "                  .filter(pass_filter)"
      ],
      "execution_count": 63,
      "outputs": []
    },
    {
      "cell_type": "code",
      "metadata": {
        "colab": {
          "base_uri": "https://localhost:8080/"
        },
        "id": "jxPAEVlacrNX",
        "outputId": "c07dada5-0cca-42d1-f9c9-94fc4baf25a9"
      },
      "source": [
        "print('Số Từ:')\r\n",
        "number = int(input())\r\n",
        "output = counts.map(lambda x:  (x[1], x[0])).sortByKey(False).take(number)\r\n",
        "for (count, word) in output:\r\n",
        "  print(\"%i: %s\" % (count, word))"
      ],
      "execution_count": 66,
      "outputs": [
        {
          "output_type": "stream",
          "text": [
            "Số Từ:\n",
            "5\n",
            "3: eu\n",
            "2: consectetur\n",
            "2: turpis\n",
            "2: ut\n",
            "2: convallis\n"
          ],
          "name": "stdout"
        }
      ]
    }
  ]
}